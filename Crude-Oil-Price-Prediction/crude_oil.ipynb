{
 "cells": [
  {
   "cell_type": "code",
   "execution_count": null,
   "metadata": {},
   "outputs": [],
   "source": [
    "from sklearn.linear_model import LinearRegression"
   ]
  },
  {
   "cell_type": "markdown",
   "metadata": {},
   "source": [
    "With Scikit-Learn it is extremely straight forward to implement linear regression models, as all you really need to do \n",
    "is import the LinearRegression class, instantiate it, and call the fit() method along with our training data.\n",
    "This is about as simple as it gets when using a machine learning library to train on your data.\n",
    "\n",
    "In the theory section we said that linear regression model basically finds the best value for the intercept and slope, \n",
    "which results in a line that best fits the data."
   ]
  },
  {
   "cell_type": "code",
   "execution_count": null,
   "metadata": {},
   "outputs": [],
   "source": [
    "from sklearn.svm import SVR"
   ]
  },
  {
   "cell_type": "markdown",
   "metadata": {},
   "source": [
    "It will import support vector regression library from sklearn.svm"
   ]
  },
  {
   "cell_type": "code",
   "execution_count": null,
   "metadata": {},
   "outputs": [],
   "source": [
    "with open(FILE_NAME, 'r') as f:\n",
    "    for line in f.readlines():\n",
    "        day, price = line.strip().split(' ')\n",
    "        feature_list.append([int(day)])\n",
    "        # Support only integer, so, multiply by 100\n",
    "        target_list.append(int(float(price) * 100))"
   ]
  },
  {
   "cell_type": "markdown",
   "metadata": {},
   "source": [
    "It will opens the specified file name in a read only format.\n",
    "It will read its contents and it splits the values which is present in the text file.\n",
    "The strip method is used to strip the particular substring from ends of the given string whereas split method is used \n",
    "to split the string based on some delimiter. Here delimiter is space. Day will assign to the 'feature_list' and price \n",
    "will be append to the 'target_list'."
   ]
  },
  {
   "cell_type": "code",
   "execution_count": null,
   "metadata": {},
   "outputs": [],
   "source": [
    "linear = LinearRegression().fit(feature_list, target_list)\n",
    "svr_rbf = SVR(kernel='rbf', C=1e3, gamma=0.0001).fit(feature_list, target_list)"
   ]
  },
  {
   "cell_type": "markdown",
   "metadata": {},
   "source": [
    "It will fit the linear model by taking the those two parameters."
   ]
  },
  {
   "cell_type": "markdown",
   "metadata": {},
   "source": []
  }
 ],
 "metadata": {
  "kernelspec": {
   "display_name": "Python 3",
   "language": "python",
   "name": "python3"
  },
  "language_info": {
   "codemirror_mode": {
    "name": "ipython",
    "version": 3
   },
   "file_extension": ".py",
   "mimetype": "text/x-python",
   "name": "python",
   "nbconvert_exporter": "python",
   "pygments_lexer": "ipython3",
   "version": "3.6.6"
  }
 },
 "nbformat": 4,
 "nbformat_minor": 2
}
